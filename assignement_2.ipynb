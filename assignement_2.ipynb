{
 "cells": [
  {
   "cell_type": "markdown",
   "metadata": {},
   "source": [
    "# 1. What are the Boolean data types two values? How do you go about writing them?\n",
    "\n",
    "We have two values those are True and False.\n",
    "we can use like \n",
    "\n",
    "a=10\n",
    "b=20\n",
    "c=a < b\n",
    "print(c)   # True\n"
   ]
  },
  {
   "cell_type": "markdown",
   "metadata": {},
   "source": [
    "# 2)What are the three different types of Boolean operators?\n",
    "\n",
    "AND \n",
    "OR\n",
    "NOT"
   ]
  },
  {
   "cell_type": "markdown",
   "metadata": {},
   "source": [
    "# 3)Make a list of each Boolean operators truth tables (i.e. every possible combination of Boolean values for the operator and what it evaluate ).\n",
    "\n",
    "and-> If both arguments are True then only result is True\n",
    "or ====>If atleast one arugemnt is True then result is True\n",
    "not ==>complement \n",
    " \n",
    "x      x    And   OR  \n",
    "True  True  True  True\n",
    "True  False  Fasle True\n",
    "Flase True   False True\n",
    "False  False False  False\n",
    "\n",
    "not False -> True"
   ]
  },
  {
   "cell_type": "markdown",
   "metadata": {},
   "source": [
    "# 4)  What are the values of the following expressions?\n",
    "\n",
    "\n",
    "  (5 > 4) and (3 == 5) -> False ( True and False = False)\n",
    "  \n",
    "  not (5 > 4) -> False  ( 5 > 4 = True but not(True) complement(True) == False \n",
    "  \n",
    "  (5 > 4) or (3 == 5) -> True (True or False = True)\n",
    "  \n",
    "  not((5 > 4) or (3 == 5)) -> False (not(True)=False)\n",
    "  \n",
    "  (True and True) and (True == False) -> False \n",
    "  \n",
    "  (not False) or (not True)  -> True "
   ]
  },
  {
   "cell_type": "markdown",
   "metadata": {},
   "source": [
    "# 5) What are the six different types of reference operators?\n",
    "\n",
    "\n",
    "Arithmetic Operators\n",
    "Relational Operators\n",
    "Logical operators\n",
    "Bitwise operators\n",
    "Assignment operators\n",
    "Special operators\n"
   ]
  },
  {
   "cell_type": "markdown",
   "metadata": {},
   "source": [
    "# 6)How do you tell the difference between the equal to and assignment operators?\n",
    "\n",
    "== equals operator used to check whether two operands equals or not. If not equals simply it returns False\n",
    "Ex: 2==3 -> False\n",
    "\n",
    "assignement operator is used to assign right hand side value to left hand side variable \n",
    "\n",
    "ex: a=2"
   ]
  },
  {
   "cell_type": "markdown",
   "metadata": {},
   "source": [
    "# 7)Describe a condition and when you would use one.\n",
    "\n",
    "If we want to execute few lines if specific condition satisfies then we need to go with a condition.\n",
    "\n",
    "ex: if age > 18 :\n",
    "            print(\"You are eligible to apply voter card\")"
   ]
  },
  {
   "cell_type": "code",
   "execution_count": null,
   "metadata": {},
   "outputs": [],
   "source": []
  },
  {
   "cell_type": "markdown",
   "metadata": {},
   "source": [
    "# 8)Recognize the following three blocks in this code:\n",
    "\n",
    "spam = 0\n",
    "if spam == 10:\n",
    "  print(eggs) #   No output\n",
    "  \n",
    "  \n",
    "if spam > 5:\n",
    "    print('bacon')\n",
    "else:\n",
    "   print('ham')  \n",
    "print('spam') #  ham\n",
    "                 0\n",
    "\n",
    "\n",
    "print('spam')# 0"
   ]
  },
  {
   "cell_type": "markdown",
   "metadata": {},
   "source": [
    "# 9. Create a programme that prints. If 1 is stored in spam, prints Hello; if 2 is stored in spam, prints Howdy; and if 3 is stored in spam, prints Salutations! if there's something else in spam.\n",
    "As above program spam =0\n",
    "if spam ==1:\n",
    "   print(\"hello\")\n",
    "elif spam == 2:\n",
    "   print(\"Howdy\")\n",
    "elif spam == 3 :\n",
    "   print(\"Salutations! if there's something else in spam\")\n",
    "else :\n",
    "  print(\"something else \")"
   ]
  },
  {
   "cell_type": "markdown",
   "metadata": {},
   "source": [
    "# 10.If your programme is stuck in an endless loop, what keys can you press?\n",
    "\n",
    "Ctrl+c\n"
   ]
  },
  {
   "cell_type": "markdown",
   "metadata": {},
   "source": [
    "# 11. How can you tell the difference between break and continue?\n",
    "\n",
    "Break : If we use break it means that come out from entire loop or need not to execute anything after break statement.\n",
    "\n",
    "Continue: If we use Continue it means that when it reaches the continue statement in program immeadiately controller will reach  to loop again instead of priniting very next line afetr continue"
   ]
  },
  {
   "cell_type": "markdown",
   "metadata": {},
   "source": [
    "# 12. In a for loop, what is the difference between range(10), range(0, 10), and range(0, 10, 1)?\n",
    "\n",
    "all prints a same output like 0 to 9"
   ]
  },
  {
   "cell_type": "markdown",
   "metadata": {},
   "source": [
    "# 13. Using a for loop, write a short programme that prints the numbers 1 to 10 Then, using a whileloop, create an identical programme that prints the numbers 1 to 10.\n",
    "\n",
    "using for loop::\n",
    "---------------------\n",
    "for i in range(1,11):\n",
    "    print(i)\n",
    "    \n",
    "using while loop ::\n",
    "-------------------------\n",
    "i=1\n",
    "while i < 11:\n",
    "    print(i)\n",
    "    i=i+1"
   ]
  },
  {
   "cell_type": "markdown",
   "metadata": {},
   "source": [
    "# 14. If you had a bacon() function within a spam module, what would you call it after importing spam?\n",
    " \n",
    " \n",
    " import spam\n",
    
    " spam.bacon()"
   ]
  }
 ],
 "metadata": {
  "kernelspec": {
   "display_name": "Python 3",
   "language": "python",
   "name": "python3"
  },
  "language_info": {
   "codemirror_mode": {
    "name": "ipython",
    "version": 3
   },
   "file_extension": ".py",
   "mimetype": "text/x-python",
   "name": "python",
   "nbconvert_exporter": "python",
   "pygments_lexer": "ipython3",
   "version": "3.8.5"
  }
 },
 "nbformat": 4,
 "nbformat_minor": 4
}
