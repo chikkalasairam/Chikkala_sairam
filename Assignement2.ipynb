{
 "cells": [
  {
   "cell_type": "code",
   "execution_count": null,
   "metadata": {},
   "outputs": [],
   "source": [
    "            ******** Assignment1************"
   ]
  },
  {
   "cell_type": "markdown",
   "metadata": {},
   "source": [
    "# 1. What are the differences between operators and values in the following?\n",
    "\n",
    "* --> This is multiplication operator\n",
    "\n",
    "'hello' -> This is  string \n",
    "\n",
    "-87.8 -> floating point number\n",
    "\n",
    "-   -> subtract operator\n",
    "\n",
    "/ -> division operator"
   ]
  },
  {
   "cell_type": "markdown",
   "metadata": {},
   "source": []
  },
  {
   "cell_type": "markdown",
   "metadata": {},
   "source": [
    "# 2) What is the difference between string and variable? spam,'spam'\n",
    "\n",
    "\n",
    "Spam is a variable name where we can store a value. 'spam' is a string where it was stored as a value"
   ]
  },
  {
   "cell_type": "markdown",
   "metadata": {},
   "source": [
    "# 3)Describe three different data forms.\n",
    "\n",
    "Int - where we can store whole/integral numbers like a=10 , b=20\n",
    "\n",
    "String - where we can represent sequence of charcters\n",
    "\n",
    "List - where we can store both hemogenious and hetrogenious data"
   ]
  },
  {
   "cell_type": "markdown",
   "metadata": {},
   "source": [
    "# 4)What makes up an expression? What are the functions of all expressions?\n",
    "\n",
    "a=10\n",
    "b=10*20\n",
    "\n",
    " Here expression is a combination of values and variables and operators. With expressions we can define a variable and we can do specific task as mentioned above."
   ]
  },
  {
   "cell_type": "markdown",
   "metadata": {},
   "source": [
    "# 5)What is difference between a declaration and an expression?\n",
    "\n",
    "Declaration represents an action like \n",
    "a=10 here 10 is stored in a variable a.\n",
    "\n",
    "expression represents it may be just a statement or any specific task.\n",
    "ex: 2 + 2 \n",
    "\n"
   ]
  },
  {
   "cell_type": "markdown",
   "metadata": {},
   "source": [
    "# 6)After running the following code, what does the variable bacon contain?\n",
    "\n",
    "bacon = 22\n",
    "bacon + 1\n",
    "\n",
    "Ans) bacon variable has the value 22 only because we are not assiging to the variable"
   ]
  },
  {
   "cell_type": "markdown",
   "metadata": {},
   "source": [
    "# 7)What should the values of the following two terms be?\n",
    "\n",
    "spam + spamspam  -->  'spamspamspam'\n",
    "   'spam'* 3     ---> 'spamspamspam'"
   ]
  },
  {
   "cell_type": "markdown",
   "metadata": {},
   "source": [
    "# 8)Why is it that eggs is a true variable name but 100 is not?\n",
    "\n",
    "Because variable name should not start with digits."
   ]
  },
  {
   "cell_type": "markdown",
   "metadata": {},
   "source": [
    "# 9)Which of the following three functions may be used to convert a value to an integer, a floating-point number, or a string?\n",
    "Ans)\n",
    "\n",
    "\n",
    "int()\n",
    "float()\n",
    "str()"
   ]
  },
  {
   "cell_type": "markdown",
   "metadata": {},
   "source": [
    "# 10)What is the error caused by this expression? What would you do about it?\n",
    "\n",
    "'I have eaten'+ 99 +  'burritos'\n",
    "\n",
    "Ans)\n",
    "TypeError: can only concatenate str (not \"int\") to str\n",
    "\n",
    "we can't add str + int so we need to convert 99 to str like -> 'I have eaten'+ '99' +  'burritos'\n",
    "\n"
   ]
  },
  {
   "cell_type": "markdown",
   "metadata": {},
   "source": [
    "# 11. How can you tell the difference between break and continue?\n",
    "\n",
    "Break : If we use break it means that come out from entire loop or need not to execute anything after break statement.\n",
    "\n",
    "Continue: If we use Continue it means that when it reaches the continue statement in program immeadiately controller will reach  to loop again instead of priniting very next line afetr continue"
   ]
  },
  {
   "cell_type": "markdown",
   "metadata": {},
   "source": [
    "# 12. In a for loop, what is the difference between range(10), range(0, 10), and range(0, 10, 1)?\n",
    "\n",
    "all prints a same output like 0 to 9\n",
    "\n",
    "\n",
    "    \n"
   ]
  },
  {
   "cell_type": "markdown",
   "metadata": {},
   "source": [
    "# 13. Using a for loop, write a short programme that prints the numbers 1 to 10 Then, using a whileloop, create an identical programme that prints the numbers 1 to 10.\n",
    "\n",
    "using for loop::\n",
    "---------------------\n",
    "for i in range(1,11):\n",
    "    print(i)\n",
    "    \n",
    "using while loop ::\n",
    "-------------------------\n",
    "i=1\n",
    "while i < 11:\n",
    "    print(i)\n",
    "    i=i+1"
   ]
  },
  {
   "cell_type": "markdown",
   "metadata": {},
   "source": [
    "# 14. If you had a bacon() function within a spam module, what would you call it after importing spam?\n",
    " \n",
    " \n",
    " import spam\n",
    " spam.bacon()"
   ]
  }
 ],
 "metadata": {
  "kernelspec": {
   "display_name": "Python 3",
   "language": "python",
   "name": "python3"
  },
  "language_info": {
   "codemirror_mode": {
    "name": "ipython",
    "version": 3
   },
   "file_extension": ".py",
   "mimetype": "text/x-python",
   "name": "python",
   "nbconvert_exporter": "python",
   "pygments_lexer": "ipython3",
   "version": "3.8.5"
  }
 },
 "nbformat": 4,
 "nbformat_minor": 4
}
