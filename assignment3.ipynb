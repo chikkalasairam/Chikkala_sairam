{
 "cells": [
  {
   "cell_type": "markdown",
   "metadata": {},
   "source": [
    "# 1. Why are functions advantageous to have in your programs?\n",
    "\n",
    " 1) The main important thing is code reusability means once we define we can use when ever we want\n",
    " \n",
    " 2)By defining functions peers can easily understood the requirement of defined function\n",
    " "
   ]
  },
  {
   "cell_type": "code",
   "execution_count": null,
   "metadata": {},
   "outputs": [],
   "source": []
  },
  {
   "cell_type": "markdown",
   "metadata": {},
   "source": [
    "# 2. When does the code in a function run: when it's specified or when it's called?\n",
    "\n",
    "\n",
    " when we call the function then only function will execute\n",
    "\n"
   ]
  },
  {
   "cell_type": "markdown",
   "metadata": {},
   "source": [
    "# 3.What statement creates a function?\n",
    " \n",
    " keyword \"def\"\n"
   ]
  },
  {
   "cell_type": "markdown",
   "metadata": {},
   "source": [
    "# 4.What is the difference between a function and a function call?\n",
    "\n",
    "function: where exactly our code existes to execute a specific functionality\n",
    "\n",
    "Function call: when ever we want to execute a function we invoke function call by using function name"
   ]
  },
  {
   "cell_type": "markdown",
   "metadata": {},
   "source": [
    "# 5.How many global scopes are there in a Python program? How many local scopes?\n",
    " \n",
    " As i know only one global scope and local scopes are with in the block and with in the function"
   ]
  },
  {
   "cell_type": "markdown",
   "metadata": {},
   "source": [
    "# 6.What happens to variables in a local scope when the function call returns?\n",
    "\n",
    "Varibales will be erased and garbage collector will collect the data after function call return"
   ]
  },
  {
   "cell_type": "markdown",
   "metadata": {},
   "source": [
    "# 7.What is the concept of a return value?Is it possible to have a return value in an expression?\n",
    "\n",
    "When function completes it's execution it will return A RESULT to a caller. \n",
    "Yes we can retun value as expression\n",
    "\n",
    "x = \"sairam\"\n",
    "\n",
    "def fun():\n",
    "    x = \"chikkala\"\n",
    "    print(x)\n",
    "    return x+\"sai\"+\"ram\" #expression\n",
    "\n",
    "a=fun()\n",
    "print(a)"
   ]
  },
  {
   "cell_type": "markdown",
   "metadata": {},
   "source": [
    "# 8.If a function does not have a return statement, what is the return value of a call to that function?\n",
    "\n",
    "It will return NONE if no return statement "
   ]
  },
  {
   "cell_type": "markdown",
   "metadata": {},
   "source": [
    "# 9.How do you make a function variable refer to the global variable?\n",
    "\n",
    "By using global keyword\n",
    "\n",
    "x = \"chikkala\"\n",
    "\n",
    "def fun():\n",
    "    global x # This is the function varibale but but using Global we made refer to global variable\n",
    "    x = x * 2\n",
    "    print(x)\n",
    "    return x+\"sai\"+\"ram\"\n",
    "\n",
    "a=fun()\n",
    "print(a)\n"
   ]
  },
  {
   "cell_type": "markdown",
   "metadata": {},
   "source": [
    "# 10.What is the data type of None?\n",
    "\n",
    "NoneType\n",
    "\n",
    "datatype=None\n",
    "type(datatype) --> NoneType"
   ]
  },
  {
   "cell_type": "markdown",
   "metadata": {},
   "source": [
    "# 11.What does the sentence import areallyourpetsnamederic do?\n",
    "\n",
    "imports a module called areallyourpetsnamederic to the current file"
   ]
  },
  {
   "cell_type": "markdown",
   "metadata": {},
   "source": [
    "# 12.If you had a bacon() feature in a spam module, what would you call it after importing spam?\n",
    "\n",
    "\n",
    "spam.py:\n",
    "--\n",
    "def bacon():\n",
    "    print(\"i am bacon feature\")\n",
    "    \n",
    "test.py:\n",
    "----\n",
    "import spam as s\n",
    "s.bacon()"
   ]
  },
  {
   "cell_type": "markdown",
   "metadata": {},
   "source": [
    "# 13.What can you do to save a programme from crashing if it encounters an error?\n",
    "\n",
    "By Handling the error using try and except we can execute the program with out the crash"
   ]
  },
  {
   "cell_type": "markdown",
   "metadata": {},
   "source": [
    "# 14.What is the purpose of the try clause? What is the purpose of the except clause?\n",
    "\n",
    "try and e"
   ]
  }
 ],
 "metadata": {
  "kernelspec": {
   "display_name": "Python 3",
   "language": "python",
   "name": "python3"
  },
  "language_info": {
   "codemirror_mode": {
    "name": "ipython",
    "version": 3
   },
   "file_extension": ".py",
   "mimetype": "text/x-python",
   "name": "python",
   "nbconvert_exporter": "python",
   "pygments_lexer": "ipython3",
   "version": "3.8.5"
  }
 },
 "nbformat": 4,
 "nbformat_minor": 4
}
